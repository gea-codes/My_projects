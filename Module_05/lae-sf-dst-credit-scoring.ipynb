{
 "cells": [
  {
   "cell_type": "code",
   "execution_count": 11,
   "metadata": {
    "_cell_guid": "b1076dfc-b9ad-4769-8c92-a6c4dae69d19",
    "_uuid": "8f2839f25d086af736a60e9eeb907d3b93b6e0e5",
    "execution": {
     "iopub.execute_input": "2021-11-02T16:42:59.742974Z",
     "iopub.status.busy": "2021-11-02T16:42:59.742262Z",
     "iopub.status.idle": "2021-11-02T16:42:59.752828Z",
     "shell.execute_reply": "2021-11-02T16:42:59.751913Z",
     "shell.execute_reply.started": "2021-11-02T16:42:59.742927Z"
    }
   },
   "outputs": [],
   "source": [
    "# This Python 3 environment comes with many helpful analytics libraries installed\n",
    "# It is defined by the kaggle/python Docker image: https://github.com/kaggle/docker-python\n",
    "# For example, here's several helpful packages to load\n",
    "\n",
    "import numpy as np # linear algebra\n",
    "import pandas as pd # data processing, CSV file I/O (e.g. pd.read_csv)\n",
    "\n",
    "# Input data files are available in the read-only \"../input/\" directory\n",
    "# For example, running this (by clicking run or pressing Shift+Enter) will list all files under the input directory\n",
    "\n",
    "import os\n",
    "for dirname, _, filenames in os.walk('/kaggle/input'):\n",
    "    for filename in filenames:\n",
    "        print(os.path.join(dirname, filename))\n",
    "\n",
    "# You can write up to 20GB to the current directory (/kaggle/working/) that gets preserved as output when you create a version using \"Save & Run All\" \n",
    "# You can also write temporary files to /kaggle/temp/, but they won't be saved outside of the current session"
   ]
  },
  {
   "cell_type": "markdown",
   "metadata": {},
   "source": [
    "# ОПИСАНИЕ ПРОЕКТА\n",
    "\n",
    "ЗАДАЧА: Построить модель, которая предсказывает вероятность дефолта клиента банка.\n",
    "\n",
    "ЭТАПЫ РАБОТЫ:\n",
    "\n",
    "1. первичная визуализация - выводы о качестве данных, распр-е целевой переменной;\n",
    "2. построение наивной модели + метрики;\n",
    "3. EDA: визуализация, выбросы, пропуски, корреляционный анализ, генерация признаков; \n",
    "4. оценка важности;\n",
    "5. построение модели логистической регрессии;\n",
    "6. подбор гиперпараметров;\n",
    "7. эксперименты с другими моделями, определение лучшей.\n",
    "8. финальная модель, submission. \n",
    "\n",
    "ОПИСАНИЯ ПОЛЕЙ:\n",
    "\n",
    "* client_id - идентификатор клиента\n",
    "* education - уровень образования\n",
    "* sex - пол заемщика\n",
    "* age - возраст заемщика\n",
    "* car - флаг наличия автомобиля\n",
    "* car_type - флаг автомобиля иномарки\n",
    "* decline_app_cnt - количество отказанных прошлых заявок\n",
    "* good_work - флаг наличия “хорошей” работы\n",
    "* bki_request_cnt - количество запросов клиента в БКИ о своей кредитной истории\n",
    "* home_address - категоризатор домашнего адреса\n",
    "* work_address - категоризатор рабочего адреса\n",
    "* income - доход заемщика\n",
    "* foreign_passport - наличие загранпаспорта\n",
    "* sna - связь заемщика с клиентами банка\n",
    "* first_time - давность наличия информации о заемщике\n",
    "* score_bki - скоринговый балл по данным из БКИ\n",
    "* region_rating - рейтинг региона\n",
    "* app_date - дата подачи заявки\n",
    "* default - флаг дефолта по кредиту"
   ]
  },
  {
   "cell_type": "markdown",
   "metadata": {},
   "source": [
    "# Используемые библиотеки"
   ]
  },
  {
   "cell_type": "code",
   "execution_count": 12,
   "metadata": {
    "execution": {
     "iopub.execute_input": "2021-11-02T16:43:03.705930Z",
     "iopub.status.busy": "2021-11-02T16:43:03.705234Z",
     "iopub.status.idle": "2021-11-02T16:43:03.715316Z",
     "shell.execute_reply": "2021-11-02T16:43:03.714419Z",
     "shell.execute_reply.started": "2021-11-02T16:43:03.705889Z"
    }
   },
   "outputs": [],
   "source": [
    "import numpy as np # linear algebra\n",
    "import pandas as pd # data processing, CSV file I/O (e.g. pd.read_csv)\n",
    "\n",
    "from sklearn.feature_selection import f_classif, mutual_info_classif\n",
    "from sklearn.model_selection import train_test_split, GridSearchCV\n",
    "\n",
    "from sklearn.metrics import auc, roc_auc_score, roc_curve, confusion_matrix\n",
    "from sklearn.metrics import accuracy_score, recall_score, precision_score, f1_score, mean_squared_error\n",
    "\n",
    "from sklearn.preprocessing import LabelEncoder, StandardScaler\n",
    "from sklearn.feature_selection import f_classif, mutual_info_classif\n",
    "from sklearn.linear_model import LogisticRegression\n",
    "\n",
    "\n",
    "from matplotlib import pyplot as plt\n",
    "import seaborn as sns\n",
    "%matplotlib inline\n"
   ]
  },
  {
   "cell_type": "markdown",
   "metadata": {},
   "source": [
    "# Вспомогательные функции"
   ]
  },
  {
   "cell_type": "code",
   "execution_count": 13,
   "metadata": {
    "execution": {
     "iopub.execute_input": "2021-11-02T16:43:08.591301Z",
     "iopub.status.busy": "2021-11-02T16:43:08.590744Z",
     "iopub.status.idle": "2021-11-02T16:43:08.603247Z",
     "shell.execute_reply": "2021-11-02T16:43:08.602402Z",
     "shell.execute_reply.started": "2021-11-02T16:43:08.591262Z"
    }
   },
   "outputs": [],
   "source": [
    "def visualise_metrics(model, X, y):\n",
    "    # разделение выборки на train и valid\n",
    "    X_train, X_valid, y_train, y_valid = train_test_split(\n",
    "        X, y, random_state=RANDOM_SEED, test_size=0.2)\n",
    "\n",
    "    # Обучение модели на тренировочных данных и получение предсказания на валидационных\n",
    "    model.fit(X_train, y_train)\n",
    "    probs = model.predict_proba(X_valid)[:, 1]\n",
    "    y_pred = model.predict(X_valid)\n",
    "\n",
    "    # вывод типа модели\n",
    "    print()\n",
    "    print('Model Type: ' + str(model))\n",
    "    print()\n",
    "\n",
    "    # вывод confusion matrix:\n",
    "    sns.set_context(context='paper', font_scale=2, rc=None)\n",
    "    group_names = ['True\\nPositive', 'False\\nPositive',\n",
    "                   'False\\nNegative', 'True\\nNegative']\n",
    "    group_counts = ['{0:0.0f}'.format(\n",
    "        value) for value in confusion_matrix(y_valid, y_pred).flatten()]\n",
    "    labels = [f'{v1}\\n\\n{v2}' for v1, v2 in zip(group_names, group_counts)]\n",
    "    labels = np.asarray(labels).reshape(2, 2)\n",
    "    ax = sns.heatmap(confusion_matrix(y_valid, y_pred),\n",
    "                     annot=labels, fmt='', cmap='Reds')\n",
    "    ax.set(xlabel='predicted', ylabel='real', title='Confusion Matrix')\n",
    "    plt.show()\n",
    "    print()\n",
    "\n",
    "    # вывод значений метрик:\n",
    "    print('accuracy_score:\\t\\t {:.3}'.format(accuracy_score(y_valid, y_pred)))\n",
    "    print('f1_score:\\t\\t {:.3}'.format(f1_score(y_valid, y_pred)))\n",
    "    print('precision_score:\\t {:.3}'.format(precision_score(y_valid, y_pred)))\n",
    "    print('recall_score:\\t\\t {:.3}'.format(recall_score(y_valid, y_pred)))\n",
    "    print('roc_auc_score:\\t\\t {:.3}'.format(roc_auc_score(y_valid, probs)))\n",
    "    print()\n"
   ]
  },
  {
   "cell_type": "code",
   "execution_count": 14,
   "metadata": {
    "execution": {
     "iopub.execute_input": "2021-11-02T16:43:10.734918Z",
     "iopub.status.busy": "2021-11-02T16:43:10.734655Z",
     "iopub.status.idle": "2021-11-02T16:43:10.738748Z",
     "shell.execute_reply": "2021-11-02T16:43:10.737871Z",
     "shell.execute_reply.started": "2021-11-02T16:43:10.734891Z"
    }
   },
   "outputs": [],
   "source": [
    "RANDOM_SEED=42"
   ]
  },
  {
   "cell_type": "code",
   "execution_count": 15,
   "metadata": {
    "execution": {
     "iopub.execute_input": "2021-11-02T16:43:12.576635Z",
     "iopub.status.busy": "2021-11-02T16:43:12.576341Z",
     "iopub.status.idle": "2021-11-02T16:43:12.811845Z",
     "shell.execute_reply": "2021-11-02T16:43:12.810890Z",
     "shell.execute_reply.started": "2021-11-02T16:43:12.576602Z"
    }
   },
   "outputs": [],
   "source": [
    "data = pd.read_csv(\"/kaggle/input/sf-dst-scoring/train.csv\")\n",
    "test_data = pd.read_csv(\"/kaggle/input/sf-dst-scoring/test.csv\")\n",
    "sample=pd.read_csv('/kaggle/input/sf-dst-scoring/sample_submission.csv')"
   ]
  },
  {
   "cell_type": "code",
   "execution_count": 16,
   "metadata": {
    "execution": {
     "iopub.execute_input": "2021-11-02T16:43:15.122454Z",
     "iopub.status.busy": "2021-11-02T16:43:15.122156Z",
     "iopub.status.idle": "2021-11-02T16:43:15.194169Z",
     "shell.execute_reply": "2021-11-02T16:43:15.193395Z",
     "shell.execute_reply.started": "2021-11-02T16:43:15.122422Z"
    }
   },
   "outputs": [],
   "source": [
    "# Для корректной обработки обьеденяем данные\n",
    "data['sample'] = 1 \n",
    "test_data['sample'] = 0 \n",
    "test_data['default'] = -1 \n",
    "\n",
    "df = test_data.append(data, sort=False).reset_index(drop=True)\n",
    "data.head()"
   ]
  },
  {
   "cell_type": "markdown",
   "metadata": {},
   "source": [
    "# 1. Первичная визуализация"
   ]
  },
  {
   "cell_type": "code",
   "execution_count": null,
   "metadata": {
    "execution": {
     "iopub.execute_input": "2021-11-02T09:03:56.023524Z",
     "iopub.status.busy": "2021-11-02T09:03:56.023156Z",
     "iopub.status.idle": "2021-11-02T09:03:58.997198Z",
     "shell.execute_reply": "2021-11-02T09:03:58.996291Z",
     "shell.execute_reply.started": "2021-11-02T09:03:56.023483Z"
    }
   },
   "outputs": [],
   "source": [
    "fig, ax = plt.subplots(figsize=(20, 12))\n",
    "sns_heatmap = sns.heatmap(\n",
    "    df.isnull(), yticklabels=False, cbar=False, cmap='viridis')"
   ]
  },
  {
   "cell_type": "markdown",
   "metadata": {},
   "source": [
    "В данных о клиентах присутствуют переменные всех типов, не все имеют числовую запись, а также есть пропущенные значения. Значит, нам необходима предварительная очистка данных. Пропуски имеются только в одном столбце 'education'."
   ]
  },
  {
   "cell_type": "markdown",
   "metadata": {},
   "source": [
    "Посмотрим на распределение признака default:"
   ]
  },
  {
   "cell_type": "code",
   "execution_count": null,
   "metadata": {
    "execution": {
     "iopub.execute_input": "2021-11-02T09:04:40.010039Z",
     "iopub.status.busy": "2021-11-02T09:04:40.009772Z",
     "iopub.status.idle": "2021-11-02T09:04:40.254674Z",
     "shell.execute_reply": "2021-11-02T09:04:40.253684Z",
     "shell.execute_reply.started": "2021-11-02T09:04:40.010012Z"
    }
   },
   "outputs": [],
   "source": [
    "data.default.hist()"
   ]
  },
  {
   "cell_type": "markdown",
   "metadata": {},
   "source": [
    "Недефолтных клиентов у банка значительно больше, чем дефолтных. Данные несбалансированны.\n",
    "\n",
    "Сгруппируем признаки в три категории по типу их обработки (категориальные, бинарные и числовые):"
   ]
  },
  {
   "cell_type": "code",
   "execution_count": 17,
   "metadata": {
    "execution": {
     "iopub.execute_input": "2021-11-02T16:43:19.623788Z",
     "iopub.status.busy": "2021-11-02T16:43:19.623173Z",
     "iopub.status.idle": "2021-11-02T16:43:19.628527Z",
     "shell.execute_reply": "2021-11-02T16:43:19.627787Z",
     "shell.execute_reply.started": "2021-11-02T16:43:19.623751Z"
    }
   },
   "outputs": [],
   "source": [
    "# бинарные переменные\n",
    "bin_cols = ['sex', 'car', 'car_type', 'good_work', 'foreign_passport']\n",
    "\n",
    "# категориальные переменные\n",
    "cat_cols = ['education', 'work_address', 'home_address', 'sna', 'app_date']\n",
    "\n",
    "# числовые переменные\n",
    "num_cols = ['age', 'decline_app_cnt', 'bki_request_cnt', 'income', 'score_bki', 'region_rating','first_time']"
   ]
  },
  {
   "cell_type": "markdown",
   "metadata": {},
   "source": [
    "Смотрим распределение числовых признаков:"
   ]
  },
  {
   "cell_type": "code",
   "execution_count": null,
   "metadata": {
    "execution": {
     "iopub.execute_input": "2021-11-02T09:05:10.211092Z",
     "iopub.status.busy": "2021-11-02T09:05:10.210174Z",
     "iopub.status.idle": "2021-11-02T09:05:12.138123Z",
     "shell.execute_reply": "2021-11-02T09:05:12.137218Z",
     "shell.execute_reply.started": "2021-11-02T09:05:10.21104Z"
    }
   },
   "outputs": [],
   "source": [
    "for i in num_cols:\n",
    "    plt.figure()\n",
    "    sns.distplot(df[i], kde=False, rug=False)\n",
    "    plt.title(i)\n",
    "    plt.show()"
   ]
  },
  {
   "cell_type": "code",
   "execution_count": null,
   "metadata": {
    "execution": {
     "iopub.execute_input": "2021-11-02T09:15:31.981416Z",
     "iopub.status.busy": "2021-11-02T09:15:31.980847Z",
     "iopub.status.idle": "2021-11-02T09:15:33.478292Z",
     "shell.execute_reply": "2021-11-02T09:15:33.477463Z",
     "shell.execute_reply.started": "2021-11-02T09:15:31.981366Z"
    }
   },
   "outputs": [],
   "source": [
    "for i in num_cols:\n",
    "    plt.figure()\n",
    "    sns.boxplot(x = 'default', y = data[i], data = data,  palette='rainbow')\n",
    "    plt.title(i)\n",
    "    plt.show()"
   ]
  },
  {
   "cell_type": "markdown",
   "metadata": {},
   "source": [
    "* Видим, что распределения всех чиловых признаков, кроме score_bki, имеют тяжелый правый хвост.\n",
    "*  Дефолтные клиенты в среднем младше, имеют большее количество отклоненных заявок и больше запрсов в БКИ,а также в среднем имеют более низкий доход."
   ]
  },
  {
   "cell_type": "markdown",
   "metadata": {},
   "source": [
    "Оценим корреляцию:"
   ]
  },
  {
   "cell_type": "code",
   "execution_count": null,
   "metadata": {
    "execution": {
     "iopub.execute_input": "2021-11-02T09:06:45.813243Z",
     "iopub.status.busy": "2021-11-02T09:06:45.812952Z",
     "iopub.status.idle": "2021-11-02T09:06:46.151818Z",
     "shell.execute_reply": "2021-11-02T09:06:46.150872Z",
     "shell.execute_reply.started": "2021-11-02T09:06:45.813213Z"
    }
   },
   "outputs": [],
   "source": [
    "sns.heatmap(df[num_cols].corr().abs(), vmin=0, vmax=1)"
   ]
  },
  {
   "cell_type": "code",
   "execution_count": null,
   "metadata": {
    "execution": {
     "iopub.execute_input": "2021-11-02T09:06:59.05848Z",
     "iopub.status.busy": "2021-11-02T09:06:59.057546Z",
     "iopub.status.idle": "2021-11-02T09:06:59.296969Z",
     "shell.execute_reply": "2021-11-02T09:06:59.296029Z",
     "shell.execute_reply.started": "2021-11-02T09:06:59.058427Z"
    }
   },
   "outputs": [],
   "source": [
    "imp_num = pd.Series(f_classif(df[num_cols], df['default'])[0], index = num_cols)\n",
    "imp_num.sort_values(inplace = True)\n",
    "imp_num.plot(kind = 'barh')"
   ]
  },
  {
   "cell_type": "markdown",
   "metadata": {},
   "source": [
    "Так как категориальные признаки требуют обработки, рассмотрим их подробнее в разделе 3."
   ]
  },
  {
   "cell_type": "markdown",
   "metadata": {},
   "source": [
    "# Построение наивной модели"
   ]
  },
  {
   "cell_type": "markdown",
   "metadata": {},
   "source": [
    "Займемся преобразованием бинарных признаков:"
   ]
  },
  {
   "cell_type": "code",
   "execution_count": 18,
   "metadata": {
    "execution": {
     "iopub.execute_input": "2021-11-02T16:43:28.201464Z",
     "iopub.status.busy": "2021-11-02T16:43:28.201204Z",
     "iopub.status.idle": "2021-11-02T16:43:28.361857Z",
     "shell.execute_reply": "2021-11-02T16:43:28.361118Z",
     "shell.execute_reply.started": "2021-11-02T16:43:28.201436Z"
    }
   },
   "outputs": [],
   "source": [
    "label_encoder = LabelEncoder()\n",
    "for column in bin_cols:\n",
    "    df[column] = label_encoder.fit_transform(df[column])"
   ]
  },
  {
   "cell_type": "code",
   "execution_count": 19,
   "metadata": {
    "execution": {
     "iopub.execute_input": "2021-11-02T16:43:30.643201Z",
     "iopub.status.busy": "2021-11-02T16:43:30.642926Z",
     "iopub.status.idle": "2021-11-02T16:43:30.667533Z",
     "shell.execute_reply": "2021-11-02T16:43:30.666900Z",
     "shell.execute_reply.started": "2021-11-02T16:43:30.643174Z"
    }
   },
   "outputs": [],
   "source": [
    "#удалим \"education\" из-за наличия пропусков\n",
    "#удалим \"app_date\" и 'client_id'\n",
    "df_naiv = df.drop(['client_id', 'education', 'app_date'], axis =1 )\n"
   ]
  },
  {
   "cell_type": "code",
   "execution_count": 20,
   "metadata": {
    "execution": {
     "iopub.execute_input": "2021-11-02T16:43:32.439490Z",
     "iopub.status.busy": "2021-11-02T16:43:32.439220Z",
     "iopub.status.idle": "2021-11-02T16:43:32.471113Z",
     "shell.execute_reply": "2021-11-02T16:43:32.470337Z",
     "shell.execute_reply.started": "2021-11-02T16:43:32.439452Z"
    }
   },
   "outputs": [],
   "source": [
    "train_processed = df_naiv.query('sample == 1').drop(['sample'], axis=1)\n",
    "test_processed = df_naiv.query('sample == 0').drop(['sample'], axis=1)"
   ]
  },
  {
   "cell_type": "code",
   "execution_count": 21,
   "metadata": {
    "execution": {
     "iopub.execute_input": "2021-11-02T16:43:36.200827Z",
     "iopub.status.busy": "2021-11-02T16:43:36.200552Z",
     "iopub.status.idle": "2021-11-02T16:43:36.208000Z",
     "shell.execute_reply": "2021-11-02T16:43:36.206999Z",
     "shell.execute_reply.started": "2021-11-02T16:43:36.200799Z"
    }
   },
   "outputs": [],
   "source": [
    "# удалим для X целевую переменную\n",
    "X = train_processed.drop(columns=['default'])\n",
    "y = train_processed['default']"
   ]
  },
  {
   "cell_type": "code",
   "execution_count": 22,
   "metadata": {
    "execution": {
     "iopub.execute_input": "2021-11-02T16:43:38.914599Z",
     "iopub.status.busy": "2021-11-02T16:43:38.914290Z",
     "iopub.status.idle": "2021-11-02T16:43:39.628109Z",
     "shell.execute_reply": "2021-11-02T16:43:39.627239Z",
     "shell.execute_reply.started": "2021-11-02T16:43:38.914552Z"
    }
   },
   "outputs": [],
   "source": [
    "lr = LogisticRegression(random_state=RANDOM_SEED, max_iter=1000)\n",
    "visualise_metrics(lr, X, y)"
   ]
  },
  {
   "cell_type": "markdown",
   "metadata": {},
   "source": [
    "Наивная модель выдает кредит абсолютно всем и предсказывает отсутствие дефолтных клиентов. Идеально, но несопоставимо с реальностью."
   ]
  },
  {
   "cell_type": "markdown",
   "metadata": {},
   "source": [
    "# EDA: визуализация, выбросы, пропуски, корреляционный анализ, генерация признаков"
   ]
  },
  {
   "cell_type": "markdown",
   "metadata": {},
   "source": [
    "* education"
   ]
  },
  {
   "cell_type": "code",
   "execution_count": null,
   "metadata": {
    "execution": {
     "iopub.execute_input": "2021-11-02T09:10:42.121611Z",
     "iopub.status.busy": "2021-11-02T09:10:42.121298Z",
     "iopub.status.idle": "2021-11-02T09:10:42.264969Z",
     "shell.execute_reply": "2021-11-02T09:10:42.264339Z",
     "shell.execute_reply.started": "2021-11-02T09:10:42.121581Z"
    }
   },
   "outputs": [],
   "source": [
    "df.education.value_counts().plot.barh()"
   ]
  },
  {
   "cell_type": "markdown",
   "metadata": {},
   "source": [
    "Заполним пропуски самым распространенным значением - \"SCH\":"
   ]
  },
  {
   "cell_type": "code",
   "execution_count": 23,
   "metadata": {
    "execution": {
     "iopub.execute_input": "2021-11-02T16:43:47.167033Z",
     "iopub.status.busy": "2021-11-02T16:43:47.166390Z",
     "iopub.status.idle": "2021-11-02T16:43:47.236888Z",
     "shell.execute_reply": "2021-11-02T16:43:47.236296Z",
     "shell.execute_reply.started": "2021-11-02T16:43:47.166987Z"
    }
   },
   "outputs": [],
   "source": [
    "df.education = df.education.fillna(df.education.mode()[0])\n",
    "df.isnull().sum()"
   ]
  },
  {
   "cell_type": "markdown",
   "metadata": {},
   "source": [
    "Закодируем  признак education:"
   ]
  },
  {
   "cell_type": "code",
   "execution_count": 24,
   "metadata": {
    "execution": {
     "iopub.execute_input": "2021-11-02T16:43:49.952929Z",
     "iopub.status.busy": "2021-11-02T16:43:49.952489Z",
     "iopub.status.idle": "2021-11-02T16:43:50.009046Z",
     "shell.execute_reply": "2021-11-02T16:43:50.008080Z",
     "shell.execute_reply.started": "2021-11-02T16:43:49.952889Z"
    }
   },
   "outputs": [],
   "source": [
    "label_encoder = LabelEncoder()\n",
    "df['education'] = label_encoder.fit_transform(df['education'])\n",
    "df.head()"
   ]
  },
  {
   "cell_type": "markdown",
   "metadata": {},
   "source": [
    "* Так как распределения всех чиловых признаков, кроме score_bki, имеют тяжелый правый хвост. Прологарифмируем их,чтобы уйти от этой проблемы. score_bki исключим из логарифмировани, так как он может принимать отрицательные значения."
   ]
  },
  {
   "cell_type": "code",
   "execution_count": 25,
   "metadata": {
    "execution": {
     "iopub.execute_input": "2021-11-02T16:43:52.534356Z",
     "iopub.status.busy": "2021-11-02T16:43:52.534079Z",
     "iopub.status.idle": "2021-11-02T16:43:52.582404Z",
     "shell.execute_reply": "2021-11-02T16:43:52.581680Z",
     "shell.execute_reply.started": "2021-11-02T16:43:52.534324Z"
    }
   },
   "outputs": [],
   "source": [
    "for i in num_cols:\n",
    "    if i != 'score_bki':\n",
    "        df[i] =  np.log(1 + df[i])"
   ]
  },
  {
   "cell_type": "code",
   "execution_count": null,
   "metadata": {
    "execution": {
     "iopub.execute_input": "2021-11-02T09:14:43.938584Z",
     "iopub.status.busy": "2021-11-02T09:14:43.938291Z",
     "iopub.status.idle": "2021-11-02T09:14:45.875557Z",
     "shell.execute_reply": "2021-11-02T09:14:45.874533Z",
     "shell.execute_reply.started": "2021-11-02T09:14:43.93855Z"
    }
   },
   "outputs": [],
   "source": [
    "for i in num_cols:\n",
    "    plt.figure()\n",
    "    sns.distplot(df[i], kde=False, rug=False)\n",
    "    plt.title(i)\n",
    "    plt.show()"
   ]
  },
  {
   "cell_type": "markdown",
   "metadata": {},
   "source": [
    "Сработало только с признаком income."
   ]
  },
  {
   "cell_type": "code",
   "execution_count": null,
   "metadata": {
    "execution": {
     "iopub.execute_input": "2021-11-02T09:15:20.105915Z",
     "iopub.status.busy": "2021-11-02T09:15:20.105364Z",
     "iopub.status.idle": "2021-11-02T09:15:21.322917Z",
     "shell.execute_reply": "2021-11-02T09:15:21.322259Z",
     "shell.execute_reply.started": "2021-11-02T09:15:20.105871Z"
    }
   },
   "outputs": [],
   "source": [
    "for i in num_cols:\n",
    "    plt.figure()\n",
    "    sns.boxplot(x = 'default', y = data[i], data = data,  palette='rainbow')\n",
    "    plt.title(i)\n",
    "    plt.show()"
   ]
  },
  {
   "cell_type": "markdown",
   "metadata": {},
   "source": [
    "На боксплотах видно большое количество выбросов в score_bki, income и decline_app_cnt."
   ]
  },
  {
   "cell_type": "markdown",
   "metadata": {},
   "source": [
    "* app_date"
   ]
  },
  {
   "cell_type": "code",
   "execution_count": 26,
   "metadata": {
    "execution": {
     "iopub.execute_input": "2021-11-02T16:44:02.606687Z",
     "iopub.status.busy": "2021-11-02T16:44:02.606285Z",
     "iopub.status.idle": "2021-11-02T16:44:02.664951Z",
     "shell.execute_reply": "2021-11-02T16:44:02.664118Z",
     "shell.execute_reply.started": "2021-11-02T16:44:02.606651Z"
    }
   },
   "outputs": [],
   "source": [
    "df['app_date'] = pd.to_datetime(df['app_date'])\n",
    "df['app_date'].dt.month.value_counts()"
   ]
  },
  {
   "cell_type": "markdown",
   "metadata": {},
   "source": [
    "Данные предоставлены всего за 4 месяца. Преобразуем app_date в app_month:"
   ]
  },
  {
   "cell_type": "code",
   "execution_count": 27,
   "metadata": {
    "execution": {
     "iopub.execute_input": "2021-11-02T16:44:05.558109Z",
     "iopub.status.busy": "2021-11-02T16:44:05.557433Z",
     "iopub.status.idle": "2021-11-02T16:44:06.280042Z",
     "shell.execute_reply": "2021-11-02T16:44:06.279188Z",
     "shell.execute_reply.started": "2021-11-02T16:44:05.558071Z"
    }
   },
   "outputs": [],
   "source": [
    "df['app_month'] = df['app_date'].apply(lambda x: x.month)"
   ]
  },
  {
   "cell_type": "code",
   "execution_count": 28,
   "metadata": {
    "execution": {
     "iopub.execute_input": "2021-11-02T16:44:08.692926Z",
     "iopub.status.busy": "2021-11-02T16:44:08.692660Z",
     "iopub.status.idle": "2021-11-02T16:44:08.697159Z",
     "shell.execute_reply": "2021-11-02T16:44:08.696248Z",
     "shell.execute_reply.started": "2021-11-02T16:44:08.692898Z"
    }
   },
   "outputs": [],
   "source": [
    "cat_cols.append('app_month')"
   ]
  },
  {
   "cell_type": "code",
   "execution_count": 29,
   "metadata": {
    "execution": {
     "iopub.execute_input": "2021-11-02T16:44:15.909116Z",
     "iopub.status.busy": "2021-11-02T16:44:15.908616Z",
     "iopub.status.idle": "2021-11-02T16:44:15.912604Z",
     "shell.execute_reply": "2021-11-02T16:44:15.912028Z",
     "shell.execute_reply.started": "2021-11-02T16:44:15.909060Z"
    }
   },
   "outputs": [],
   "source": [
    "cat_cols = list(set(cat_cols) - set(['app_date']))"
   ]
  },
  {
   "cell_type": "code",
   "execution_count": 30,
   "metadata": {
    "execution": {
     "iopub.execute_input": "2021-11-02T16:44:18.581222Z",
     "iopub.status.busy": "2021-11-02T16:44:18.580392Z",
     "iopub.status.idle": "2021-11-02T16:44:18.605680Z",
     "shell.execute_reply": "2021-11-02T16:44:18.604828Z",
     "shell.execute_reply.started": "2021-11-02T16:44:18.581166Z"
    }
   },
   "outputs": [],
   "source": [
    "df = df.drop(df[['app_date']], axis=1)\n"
   ]
  },
  {
   "cell_type": "markdown",
   "metadata": {},
   "source": [
    "# Оценка важности"
   ]
  },
  {
   "cell_type": "markdown",
   "metadata": {},
   "source": [
    "Оценим корреляцию и значимость числовых признаков:"
   ]
  },
  {
   "cell_type": "code",
   "execution_count": null,
   "metadata": {
    "execution": {
     "iopub.execute_input": "2021-11-02T09:46:08.209326Z",
     "iopub.status.busy": "2021-11-02T09:46:08.209024Z",
     "iopub.status.idle": "2021-11-02T09:46:08.568251Z",
     "shell.execute_reply": "2021-11-02T09:46:08.56736Z",
     "shell.execute_reply.started": "2021-11-02T09:46:08.209287Z"
    }
   },
   "outputs": [],
   "source": [
    "sns.heatmap(df[num_cols].corr().abs(), vmin=0, vmax=1)"
   ]
  },
  {
   "cell_type": "code",
   "execution_count": null,
   "metadata": {
    "execution": {
     "iopub.execute_input": "2021-11-02T09:46:22.428017Z",
     "iopub.status.busy": "2021-11-02T09:46:22.427741Z",
     "iopub.status.idle": "2021-11-02T09:46:22.608306Z",
     "shell.execute_reply": "2021-11-02T09:46:22.607414Z",
     "shell.execute_reply.started": "2021-11-02T09:46:22.427987Z"
    }
   },
   "outputs": [],
   "source": [
    "imp_num = pd.Series(f_classif(df[num_cols], df['default'])[0], index = num_cols)\n",
    "imp_num.sort_values(inplace = True)\n",
    "imp_num.plot(kind = 'barh')"
   ]
  },
  {
   "cell_type": "markdown",
   "metadata": {},
   "source": [
    "Как мы видим, взаимосвязь пар числовых признаков по Пирсону слабая, что прекрасно для нашей модели! \n",
    "score_bki - наиболее значимый числовой признак, age - наименее значимый."
   ]
  },
  {
   "cell_type": "markdown",
   "metadata": {},
   "source": [
    "Оценим корреляцию и значимость категориальных признаков:"
   ]
  },
  {
   "cell_type": "code",
   "execution_count": null,
   "metadata": {
    "execution": {
     "iopub.execute_input": "2021-11-02T09:46:26.994106Z",
     "iopub.status.busy": "2021-11-02T09:46:26.993316Z",
     "iopub.status.idle": "2021-11-02T09:46:27.404927Z",
     "shell.execute_reply": "2021-11-02T09:46:27.403837Z",
     "shell.execute_reply.started": "2021-11-02T09:46:26.994051Z"
    }
   },
   "outputs": [],
   "source": [
    "sns.heatmap(df[cat_cols + bin_cols].corr().abs(), vmin=0, vmax=1)"
   ]
  },
  {
   "cell_type": "markdown",
   "metadata": {},
   "source": [
    "Наблюдается высокая корреляция между признаками home_addres/work_address, car/car_type. Посмотрим на значимость признаков и решим, какие отбросить, а какие оставить."
   ]
  },
  {
   "cell_type": "code",
   "execution_count": null,
   "metadata": {
    "execution": {
     "iopub.execute_input": "2021-11-02T09:46:30.417152Z",
     "iopub.status.busy": "2021-11-02T09:46:30.416847Z",
     "iopub.status.idle": "2021-11-02T09:46:30.812151Z",
     "shell.execute_reply": "2021-11-02T09:46:30.811306Z",
     "shell.execute_reply.started": "2021-11-02T09:46:30.417114Z"
    }
   },
   "outputs": [],
   "source": [
    "imp_cat = pd.Series(mutual_info_classif(df[bin_cols + cat_cols], df['default'],\n",
    "                                     discrete_features =True), index = bin_cols + cat_cols)\n",
    "imp_cat.sort_values(inplace = True)\n",
    "imp_cat.plot(kind = 'barh')"
   ]
  },
  {
   "cell_type": "markdown",
   "metadata": {},
   "source": [
    "Согласно значимости оставляем - home_address и car_type, удаляем - work_address и car. Также удаляем столбец client_id."
   ]
  },
  {
   "cell_type": "code",
   "execution_count": 31,
   "metadata": {
    "execution": {
     "iopub.execute_input": "2021-11-02T16:44:32.083813Z",
     "iopub.status.busy": "2021-11-02T16:44:32.083499Z",
     "iopub.status.idle": "2021-11-02T16:44:32.095197Z",
     "shell.execute_reply": "2021-11-02T16:44:32.094308Z",
     "shell.execute_reply.started": "2021-11-02T16:44:32.083780Z"
    }
   },
   "outputs": [],
   "source": [
    "df = df.drop(df[['work_address', 'car_type', 'client_id']], axis=1)\n",
    "cat_cols = list(set(cat_cols) - set(['work_address']))\n",
    "bin_cols = list(set(bin_cols) - set(['car_type']))"
   ]
  },
  {
   "cell_type": "markdown",
   "metadata": {},
   "source": [
    "Перед обучением регрессии стандартизируем числовые признаки,а для категориальных переменных используем dummy-кодирование:"
   ]
  },
  {
   "cell_type": "code",
   "execution_count": 32,
   "metadata": {
    "execution": {
     "iopub.execute_input": "2021-11-02T16:44:36.312087Z",
     "iopub.status.busy": "2021-11-02T16:44:36.311383Z",
     "iopub.status.idle": "2021-11-02T16:44:36.333307Z",
     "shell.execute_reply": "2021-11-02T16:44:36.332691Z",
     "shell.execute_reply.started": "2021-11-02T16:44:36.312049Z"
    }
   },
   "outputs": [],
   "source": [
    "X_num = StandardScaler().fit_transform(df[num_cols].values)\n",
    "df[num_cols]=X_num"
   ]
  },
  {
   "cell_type": "code",
   "execution_count": 33,
   "metadata": {
    "execution": {
     "iopub.execute_input": "2021-11-02T16:44:40.167908Z",
     "iopub.status.busy": "2021-11-02T16:44:40.167621Z",
     "iopub.status.idle": "2021-11-02T16:44:40.216172Z",
     "shell.execute_reply": "2021-11-02T16:44:40.215614Z",
     "shell.execute_reply.started": "2021-11-02T16:44:40.167876Z"
    }
   },
   "outputs": [],
   "source": [
    "df = pd.get_dummies(df, columns=cat_cols)\n",
    "df.head()"
   ]
  },
  {
   "cell_type": "markdown",
   "metadata": {},
   "source": [
    "# Построение модели логистической регрессии"
   ]
  },
  {
   "cell_type": "code",
   "execution_count": 34,
   "metadata": {
    "execution": {
     "iopub.execute_input": "2021-11-02T16:44:45.304748Z",
     "iopub.status.busy": "2021-11-02T16:44:45.304355Z",
     "iopub.status.idle": "2021-11-02T16:44:46.972807Z",
     "shell.execute_reply": "2021-11-02T16:44:46.971829Z",
     "shell.execute_reply.started": "2021-11-02T16:44:45.304720Z"
    }
   },
   "outputs": [],
   "source": [
    "train_processed = df.query('sample == 1').drop(['sample'], axis=1)\n",
    "test_processed = df.query('sample == 0').drop(['sample'], axis=1)\n",
    "\n",
    "# удалим для X целевую переменную \n",
    "X = train_processed.drop(columns=['default'])\n",
    "y = train_processed['default']\n",
    "\n",
    "lr = LogisticRegression(random_state=RANDOM_SEED, max_iter=1000)\n",
    "visualise_metrics(lr, X, y)"
   ]
  },
  {
   "cell_type": "markdown",
   "metadata": {},
   "source": [
    "Предсказания модели улучшились, но всё еще неприменимы в реальной жизни. Улучшаем!"
   ]
  },
  {
   "cell_type": "markdown",
   "metadata": {},
   "source": [
    "# Эксперименты"
   ]
  },
  {
   "cell_type": "code",
   "execution_count": 35,
   "metadata": {
    "execution": {
     "iopub.execute_input": "2021-11-02T16:44:57.330926Z",
     "iopub.status.busy": "2021-11-02T16:44:57.330149Z",
     "iopub.status.idle": "2021-11-02T16:44:58.375816Z",
     "shell.execute_reply": "2021-11-02T16:44:58.375030Z",
     "shell.execute_reply.started": "2021-11-02T16:44:57.330883Z"
    }
   },
   "outputs": [],
   "source": [
    "lr_balanced = LogisticRegression(\n",
    "    class_weight='balanced', max_iter=1000, random_state=RANDOM_SEED)\n",
    "visualise_metrics(lr_balanced, X, y)"
   ]
  },
  {
   "cell_type": "markdown",
   "metadata": {},
   "source": [
    "В сбалансированной модели резко уменьшается количество ошибок первого рода, но появляется значительное количество ошибок второго рода."
   ]
  },
  {
   "cell_type": "markdown",
   "metadata": {},
   "source": [
    "# Подбор гиперпараметров"
   ]
  },
  {
   "cell_type": "code",
   "execution_count": 36,
   "metadata": {
    "execution": {
     "iopub.execute_input": "2021-11-02T16:45:07.161512Z",
     "iopub.status.busy": "2021-11-02T16:45:07.161185Z",
     "iopub.status.idle": "2021-11-02T16:45:57.673679Z",
     "shell.execute_reply": "2021-11-02T16:45:57.672835Z",
     "shell.execute_reply.started": "2021-11-02T16:45:07.161462Z"
    }
   },
   "outputs": [],
   "source": [
    "# создадим набор гиперпараметров\n",
    "hyperparameters = {'C': np.logspace(-4, 4, 20)}\n",
    "\n",
    "X = train_processed.drop(columns=['default'])\n",
    "y = train_processed['default']\n",
    "\n",
    "X_train, X_valid, y_train, y_valid = train_test_split(\n",
    "    X, y, random_state=RANDOM_SEED, test_size=0.2)\n",
    "\n",
    "model = LogisticRegression(random_state=RANDOM_SEED,\n",
    "                           class_weight='balanced', max_iter=1000)\n",
    "\n",
    "# создадим сетку поиска с использованием 5-кратной перекрёстной проверки\n",
    "clf = GridSearchCV(model, hyperparameters, cv=5, verbose=0, scoring='roc_auc')\n",
    "\n",
    "best_model = clf.fit(X_train, y_train)\n",
    "\n",
    "# вывод лучшего параметра С\n",
    "print('Лучшее C:', best_model.best_estimator_.get_params()['C'])"
   ]
  },
  {
   "cell_type": "code",
   "execution_count": 37,
   "metadata": {
    "execution": {
     "iopub.execute_input": "2021-11-02T16:46:11.975517Z",
     "iopub.status.busy": "2021-11-02T16:46:11.975243Z",
     "iopub.status.idle": "2021-11-02T16:46:13.126059Z",
     "shell.execute_reply": "2021-11-02T16:46:13.125239Z",
     "shell.execute_reply.started": "2021-11-02T16:46:11.975489Z"
    }
   },
   "outputs": [],
   "source": [
    "lr_best = LogisticRegression(\n",
    "    random_state=RANDOM_SEED, class_weight='balanced', max_iter=1000, C= 0.012742749857031334)\n",
    "visualise_metrics(lr_best, X, y)"
   ]
  },
  {
   "cell_type": "markdown",
   "metadata": {},
   "source": [
    "Попробуем применить undersampling:"
   ]
  },
  {
   "cell_type": "code",
   "execution_count": 38,
   "metadata": {
    "execution": {
     "iopub.execute_input": "2021-11-02T16:48:25.138973Z",
     "iopub.status.busy": "2021-11-02T16:48:25.138538Z",
     "iopub.status.idle": "2021-11-02T16:48:25.784267Z",
     "shell.execute_reply": "2021-11-02T16:48:25.783328Z",
     "shell.execute_reply.started": "2021-11-02T16:48:25.138941Z"
    }
   },
   "outputs": [],
   "source": [
    "\n",
    "# оставим случайным образом в тренировочных данных столько строк с нулевым дефолтом,\n",
    "# сколько всего есть данных меньшего класса\n",
    "train_unders = pd.concat([train_processed[train_processed['default'] == 0].sample(\n",
    "    len(train_processed[train_processed['default'] == 1]), random_state=RANDOM_SEED),\n",
    "    train_processed[train_processed['default'] == 1]])\n",
    "\n",
    "X = train_unders.drop(columns=['default'])\n",
    "y = train_unders['default']\n",
    "\n",
    "lr_balanced = LogisticRegression(\n",
    "    class_weight='balanced', max_iter=1000, random_state=RANDOM_SEED)\n",
    "visualise_metrics(lr_balanced, X, y)\n"
   ]
  },
  {
   "cell_type": "markdown",
   "metadata": {},
   "source": [
    "Применение undersampling позволило значительно улучшить предсказания модели. Теперь верные предсказания по дефолтным и недефолтным клиентам превосходят ошибочные. Но показатель ROC AUC стал меньше."
   ]
  },
  {
   "cell_type": "markdown",
   "metadata": {},
   "source": [
    "# Выводы"
   ]
  },
  {
   "cell_type": "markdown",
   "metadata": {},
   "source": [
    "* После обработки данных (EDA) построили базовую модель логистической регрессии, которая показала ROC AUC > 0.74, а также accuracy 0.875, precision 0.389, recall 0.024 и f1_score 0.0454\n",
    "* При подборе гиперпараметра с использованием GridSearchCV и логарифмсеткой (-4,4), получили, что при значении C= 0.01274 модель показывает практически тот же результат.  ROC AUC не изменился, зато f1 сильно улучшился 0.339.\n",
    "* Также, для сравнения построили модель логистической регрессии с одинаковым количеством классов целевой переменной. f1 стал еще лучше 0,67 за счет изменения recall_score , но ROC AUC стал хуже 0,733. Поэтому в итоге взяли базовую модель с гиперпараметром  C= 0.01274."
   ]
  },
  {
   "cell_type": "markdown",
   "metadata": {},
   "source": [
    "# Финальная модель и submission."
   ]
  },
  {
   "cell_type": "code",
   "execution_count": 40,
   "metadata": {
    "execution": {
     "iopub.execute_input": "2021-11-02T16:52:40.806474Z",
     "iopub.status.busy": "2021-11-02T16:52:40.806187Z",
     "iopub.status.idle": "2021-11-02T16:52:41.021458Z",
     "shell.execute_reply": "2021-11-02T16:52:41.020642Z",
     "shell.execute_reply.started": "2021-11-02T16:52:40.806446Z"
    }
   },
   "outputs": [],
   "source": [
    "X_test = test_processed.drop(columns=['default'])\n",
    "y_pred = lr_best.predict_proba(X_test)\n",
    "results_df = pd.DataFrame(data={'client_id':test_data['client_id'], 'default':y_pred[:,1]})\n",
    "results_df.to_csv('submission.csv', index=False)\n",
    "results_df"
   ]
  }
 ],
 "metadata": {
  "kernelspec": {
   "display_name": "Python 3",
   "language": "python",
   "name": "python3"
  },
  "language_info": {
   "codemirror_mode": {
    "name": "ipython",
    "version": 3
   },
   "file_extension": ".py",
   "mimetype": "text/x-python",
   "name": "python",
   "nbconvert_exporter": "python",
   "pygments_lexer": "ipython3",
   "version": "3.8.5"
  }
 },
 "nbformat": 4,
 "nbformat_minor": 4
}
