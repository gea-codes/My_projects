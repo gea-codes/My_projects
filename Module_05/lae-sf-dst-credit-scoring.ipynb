{
 "cells": [
  {
   "cell_type": "markdown",
   "metadata": {},
   "source": [
    "# ОПИСАНИЕ ПРОЕКТА\n",
    "\n",
    "**ЗАДАЧА**: Построить скоринг модель для вторичных клиентов банка, которая бы предсказывала вероятность дефолта клиента. Для этого нужно будет определить значимые параметры заемщика.\n",
    "\n",
    "**ЭТАПЫ РАБОТЫ**:\n",
    "\n",
    "1. Первичная визуализация - выводы о качестве данных, распределение целевой переменной;\n",
    "2. Построение наивной модели + метрики;\n",
    "3. EDA: визуализация, выбросы, пропуски, корреляционный анализ, генерация признаков; \n",
    "4. Оценка важности;\n",
    "5. Построение модели логистической регрессии;\n",
    "6. Подбор гиперпараметров;\n",
    "7. Эксперименты с другими моделями, определение лучшей;\n",
    "8. Финальная модель, submission. \n",
    "\n",
    "**ОПИСАНИЯ ПОЛЕЙ**:\n",
    "\n",
    "* **client_id** - идентификатор клиента\n",
    "* **education** - уровень образования\n",
    "* **sex** - пол заемщика\n",
    "* **age** - возраст заемщика\n",
    "* **car** - флаг наличия автомобиля\n",
    "* **car_type** - флаг автомобиля иномарки\n",
    "* **decline_app_cnt** - количество отказанных прошлых заявок\n",
    "* **good_work** - флаг наличия “хорошей” работы\n",
    "* **bki_request_cnt** - количество запросов клиента в БКИ о своей кредитной истории\n",
    "* **home_address** - категоризатор домашнего адреса\n",
    "* **work_address** - категоризатор рабочего адреса\n",
    "* **income** - доход заемщика\n",
    "* **foreign_passport** - наличие загранпаспорта\n",
    "* **sna** - связь заемщика с клиентами банка\n",
    "* **first_time** - давность наличия информации о заемщике\n",
    "* **score_bki** - скоринговый балл по данным из БКИ\n",
    "* **region_rating** - рейтинг региона\n",
    "* **app_date** - дата подачи заявки\n",
    "* **default** - флаг дефолта по кредиту"
   ]
  },
  {
   "cell_type": "markdown",
   "metadata": {},
   "source": [
    "# Используемые библиотеки"
   ]
  },
  {
   "cell_type": "code",
   "execution_count": null,
   "metadata": {
    "execution": {
     "iopub.execute_input": "2021-11-03T18:42:03.790741Z",
     "iopub.status.busy": "2021-11-03T18:42:03.789914Z",
     "iopub.status.idle": "2021-11-03T18:42:03.839709Z",
     "shell.execute_reply": "2021-11-03T18:42:03.83838Z",
     "shell.execute_reply.started": "2021-11-03T18:42:03.790656Z"
    }
   },
   "outputs": [],
   "source": [
    "import numpy as np\n",
    "import pandas as pd\n",
    "import pandas_profiling as pp\n",
    "from matplotlib import pyplot as plt\n",
    "import seaborn as sns\n",
    "%matplotlib inline\n",
    "\n",
    "import os\n",
    "for dirname, _, filenames in os.walk('/kaggle/input'):\n",
    "    for filename in filenames:\n",
    "        print(os.path.join(dirname, filename))\n",
    "\n",
    "from sklearn.feature_selection import f_classif, mutual_info_classif\n",
    "from sklearn.model_selection import train_test_split, GridSearchCV\n",
    "\n",
    "from sklearn.metrics import auc, roc_auc_score, roc_curve, confusion_matrix\n",
    "from sklearn.metrics import accuracy_score, recall_score, precision_score\n",
    "from sklearn.metrics import f1_score, mean_squared_error\n",
    "\n",
    "from sklearn.preprocessing import LabelEncoder, StandardScaler\n",
    "from sklearn.feature_selection import f_classif, mutual_info_classif\n",
    "from sklearn.linear_model import LogisticRegression"
   ]
  },
  {
   "cell_type": "markdown",
   "metadata": {},
   "source": [
    "# Вспомогательные функции"
   ]
  },
  {
   "cell_type": "code",
   "execution_count": null,
   "metadata": {
    "execution": {
     "iopub.execute_input": "2021-11-03T18:42:03.855356Z",
     "iopub.status.busy": "2021-11-03T18:42:03.847888Z",
     "iopub.status.idle": "2021-11-03T18:42:03.913412Z",
     "shell.execute_reply": "2021-11-03T18:42:03.912204Z",
     "shell.execute_reply.started": "2021-11-03T18:42:03.855252Z"
    }
   },
   "outputs": [],
   "source": [
    "def visualise_metrics(model, X, y):\n",
    "    '''Функция для разделения выборки на train и valid'''\n",
    "    X_train, X_valid, y_train, y_valid = train_test_split(\n",
    "        X, y, random_state=RANDOM_SEED, test_size=0.2)\n",
    "\n",
    "    # Обучение модели на тренировочных данных и предсказание на валидационных\n",
    "    model.fit(X_train, y_train)\n",
    "    probs = model.predict_proba(X_valid)[:, 1]\n",
    "    y_pred = model.predict(X_valid)\n",
    "\n",
    "    # Вывод типа модели:\n",
    "    print()\n",
    "    print('Model Type: ' + str(model))\n",
    "    print()\n",
    "\n",
    "    # Вывод confusion matrix:\n",
    "    sns.set_context(context='paper', font_scale=2, rc=None)\n",
    "    group_names = ['True\\nPositive', 'False\\nPositive',\n",
    "                   'False\\nNegative', 'True\\nNegative']\n",
    "    group_counts = ['{0:0.0f}'.format(\n",
    "        value) for value in confusion_matrix(y_valid, y_pred).flatten()]\n",
    "    labels = [f'{v1}\\n\\n{v2}' for v1, v2 in zip(group_names, group_counts)]\n",
    "    labels = np.asarray(labels).reshape(2, 2)\n",
    "    ax = sns.heatmap(confusion_matrix(y_valid, y_pred),\n",
    "                     annot=labels, fmt='', cmap='Reds')\n",
    "    ax.set(xlabel='predicted', ylabel='real', title='Confusion Matrix')\n",
    "    plt.show()\n",
    "    print()\n",
    "\n",
    "    # Вывод значений метрик:\n",
    "    print('accuracy_score:\\t\\t {:.3}'.format(accuracy_score(y_valid, y_pred)))\n",
    "    print('f1_score:\\t\\t {:.3}'.format(f1_score(y_valid, y_pred)))\n",
    "    print('precision_score:\\t {:.3}'.format(precision_score(y_valid, y_pred)))\n",
    "    print('recall_score:\\t\\t {:.3}'.format(recall_score(y_valid, y_pred)))\n",
    "    print('roc_auc_score:\\t\\t {:.3}'.format(roc_auc_score(y_valid, probs)))\n",
    "    print()\n",
    "    \n",
    "\n",
    "def show_outliers(data, column): \n",
    "    '''Функция для рассчета выбросов методом IQR'''\n",
    "    q25, q75 = data[column].quantile([0.25, 0.75])\n",
    "    IQR = q75 - q25\n",
    "    low_limit = q25 - 1.5 * IQR\n",
    "    up_limit = q75 + 1.5 * IQR\n",
    "    print(\"IQR range [{}, {}]\".format(low_limit, up_limit),\n",
    "                       \"\\nMin. value: {} \\nMax. value: {}\".\n",
    "    format(data[column].min(), data[column].max()))\n",
    "    print(\"Number below the lower limit: {}, number above the upper limit: {}\".\n",
    "    format(data[data[column] < low_limit][column].count(),\n",
    "           data[data[column] > up_limit][column].count()))"
   ]
  },
  {
   "cell_type": "markdown",
   "metadata": {
    "execution": {
     "iopub.execute_input": "2021-11-03T05:53:19.810254Z",
     "iopub.status.busy": "2021-11-03T05:53:19.809812Z",
     "iopub.status.idle": "2021-11-03T05:53:19.831923Z",
     "shell.execute_reply": "2021-11-03T05:53:19.831224Z",
     "shell.execute_reply.started": "2021-11-03T05:53:19.810149Z"
    }
   },
   "source": [
    "# Оценка датасета"
   ]
  },
  {
   "cell_type": "code",
   "execution_count": null,
   "metadata": {
    "execution": {
     "iopub.execute_input": "2021-11-03T18:42:03.92647Z",
     "iopub.status.busy": "2021-11-03T18:42:03.92148Z",
     "iopub.status.idle": "2021-11-03T18:42:03.941011Z",
     "shell.execute_reply": "2021-11-03T18:42:03.939855Z",
     "shell.execute_reply.started": "2021-11-03T18:42:03.926375Z"
    }
   },
   "outputs": [],
   "source": [
    "RANDOM_SEED=42"
   ]
  },
  {
   "cell_type": "code",
   "execution_count": null,
   "metadata": {
    "execution": {
     "iopub.execute_input": "2021-11-03T18:42:03.947991Z",
     "iopub.status.busy": "2021-11-03T18:42:03.946982Z",
     "iopub.status.idle": "2021-11-03T18:42:04.816118Z",
     "shell.execute_reply": "2021-11-03T18:42:04.814794Z",
     "shell.execute_reply.started": "2021-11-03T18:42:03.947932Z"
    }
   },
   "outputs": [],
   "source": [
    "data = pd.read_csv(\"/kaggle/input/sf-dst-scoring/train.csv\")\n",
    "test_data = pd.read_csv(\"/kaggle/input/sf-dst-scoring/test.csv\")\n",
    "sample = pd.read_csv('/kaggle/input/sf-dst-scoring/sample_submission.csv')"
   ]
  },
  {
   "cell_type": "code",
   "execution_count": null,
   "metadata": {
    "execution": {
     "iopub.execute_input": "2021-11-03T18:42:04.83025Z",
     "iopub.status.busy": "2021-11-03T18:42:04.826095Z",
     "iopub.status.idle": "2021-11-03T18:42:05.01262Z",
     "shell.execute_reply": "2021-11-03T18:42:05.010795Z",
     "shell.execute_reply.started": "2021-11-03T18:42:04.830172Z"
    }
   },
   "outputs": [],
   "source": [
    "# Для корректной обработки объединяем данные\n",
    "data['sample'] = 1  # Помечаем тренировочные данные\n",
    "test_data['sample'] = 0  # Помечаем тестовые данные\n",
    "test_data['default'] = -1\n",
    "\n",
    "df = test_data.append(data, sort=False).reset_index(drop=True)"
   ]
  },
  {
   "cell_type": "code",
   "execution_count": null,
   "metadata": {
    "execution": {
     "iopub.execute_input": "2021-11-03T18:42:05.014935Z",
     "iopub.status.busy": "2021-11-03T18:42:05.014582Z",
     "iopub.status.idle": "2021-11-03T18:42:05.348528Z",
     "shell.execute_reply": "2021-11-03T18:42:05.347178Z",
     "shell.execute_reply.started": "2021-11-03T18:42:05.014889Z"
    }
   },
   "outputs": [],
   "source": [
    "print(data.info())\n",
    "print('data size: ', data.shape)\n",
    "data.head()"
   ]
  },
  {
   "cell_type": "code",
   "execution_count": null,
   "metadata": {
    "execution": {
     "iopub.execute_input": "2021-11-03T18:42:05.351923Z",
     "iopub.status.busy": "2021-11-03T18:42:05.350772Z",
     "iopub.status.idle": "2021-11-03T18:42:05.622773Z",
     "shell.execute_reply": "2021-11-03T18:42:05.621192Z",
     "shell.execute_reply.started": "2021-11-03T18:42:05.351865Z"
    }
   },
   "outputs": [],
   "source": [
    "print(test_data.info())\n",
    "print('test_data size: ', test_data.shape)\n",
    "test_data.head(5)"
   ]
  },
  {
   "cell_type": "code",
   "execution_count": null,
   "metadata": {
    "execution": {
     "iopub.execute_input": "2021-11-03T18:42:05.640294Z",
     "iopub.status.busy": "2021-11-03T18:42:05.629842Z",
     "iopub.status.idle": "2021-11-03T18:42:05.727567Z",
     "shell.execute_reply": "2021-11-03T18:42:05.723703Z",
     "shell.execute_reply.started": "2021-11-03T18:42:05.640194Z"
    }
   },
   "outputs": [],
   "source": [
    "print(sample.info())\n",
    "print(sample.shape)\n",
    "sample.head(5)"
   ]
  },
  {
   "cell_type": "markdown",
   "metadata": {},
   "source": [
    "В датасете всего **18 переменных** (помимо переменной **sample**, разделяющей тренировочную и тестовую выборку) и целевая переменная **default**."
   ]
  },
  {
   "cell_type": "markdown",
   "metadata": {},
   "source": [
    "# 1. Первичная визуализация"
   ]
  },
  {
   "cell_type": "code",
   "execution_count": null,
   "metadata": {
    "execution": {
     "iopub.execute_input": "2021-11-03T18:42:05.729776Z",
     "iopub.status.busy": "2021-11-03T18:42:05.729425Z",
     "iopub.status.idle": "2021-11-03T18:44:01.626193Z",
     "shell.execute_reply": "2021-11-03T18:44:01.586531Z",
     "shell.execute_reply.started": "2021-11-03T18:42:05.729731Z"
    }
   },
   "outputs": [],
   "source": [
    "pp.ProfileReport(df)"
   ]
  },
  {
   "cell_type": "markdown",
   "metadata": {},
   "source": [
    "Имеются признаки с различными типами данных - **числовые**, **категориальные** и **бинарные**.\n",
    "\n",
    "Иcходя из контекста и описания, переменные **car** и **car_type** дублируют информацию друг друга. Возможно, эти две переменные будут иметь значительную коллинеарность (проверим позже).\n",
    "\n",
    "**Бинарные** признаки будут обработаны с помощью **LabelEncoder'a**, а из **категориальных** признаков будут созданы **dummy переменные**."
   ]
  },
  {
   "cell_type": "code",
   "execution_count": null,
   "metadata": {
    "execution": {
     "iopub.status.busy": "2021-11-03T18:44:01.629041Z",
     "iopub.status.idle": "2021-11-03T18:44:01.629846Z",
     "shell.execute_reply": "2021-11-03T18:44:01.629476Z",
     "shell.execute_reply.started": "2021-11-03T18:44:01.62943Z"
    }
   },
   "outputs": [],
   "source": [
    "fig, ax = plt.subplots(figsize=(20, 12))\n",
    "sns_heatmap = sns.heatmap(\n",
    "    df.isnull(), yticklabels=False, cbar=False, cmap='viridis')"
   ]
  },
  {
   "cell_type": "markdown",
   "metadata": {},
   "source": [
    "Есть пропущенные значения в столбце **education**. Их количество несущественно."
   ]
  },
  {
   "cell_type": "markdown",
   "metadata": {},
   "source": [
    "Посмотрим на распределение признака **default**:"
   ]
  },
  {
   "cell_type": "code",
   "execution_count": null,
   "metadata": {
    "execution": {
     "iopub.status.busy": "2021-11-03T18:44:01.639616Z",
     "iopub.status.idle": "2021-11-03T18:44:01.646073Z",
     "shell.execute_reply": "2021-11-03T18:44:01.645293Z",
     "shell.execute_reply.started": "2021-11-03T18:44:01.645207Z"
    }
   },
   "outputs": [],
   "source": [
    "data.default.hist()"
   ]
  },
  {
   "cell_type": "markdown",
   "metadata": {},
   "source": [
    "Недефолтных клиентов у банка значительно больше, чем дефолтных. Данные несбалансированны.\n",
    "\n",
    "Сгруппируем признаки в три категории по типу их обработки (**категориальные**, **бинарные** и **числовые**):"
   ]
  },
  {
   "cell_type": "code",
   "execution_count": null,
   "metadata": {
    "execution": {
     "iopub.status.busy": "2021-11-03T18:44:01.649322Z",
     "iopub.status.idle": "2021-11-03T18:44:01.653565Z",
     "shell.execute_reply": "2021-11-03T18:44:01.653164Z",
     "shell.execute_reply.started": "2021-11-03T18:44:01.653114Z"
    }
   },
   "outputs": [],
   "source": [
    "# Бинарные переменные\n",
    "bin_cols = ['sex', 'car', 'car_type', 'good_work', 'foreign_passport']\n",
    "\n",
    "# Категориальные переменные\n",
    "cat_cols = ['education', 'work_address', 'home_address', 'sna', 'app_date']\n",
    "\n",
    "# Числовые переменные\n",
    "num_cols = ['age', 'decline_app_cnt', 'bki_request_cnt',\n",
    "            'income', 'score_bki', 'region_rating', 'first_time']"
   ]
  },
  {
   "cell_type": "markdown",
   "metadata": {},
   "source": [
    "Смотрим распределение **числовых признаков**:"
   ]
  },
  {
   "cell_type": "code",
   "execution_count": null,
   "metadata": {
    "execution": {
     "iopub.status.busy": "2021-11-03T18:44:01.656007Z",
     "iopub.status.idle": "2021-11-03T18:44:01.656861Z",
     "shell.execute_reply": "2021-11-03T18:44:01.656619Z",
     "shell.execute_reply.started": "2021-11-03T18:44:01.656589Z"
    }
   },
   "outputs": [],
   "source": [
    "fig, axes = plt.subplots(2, 4, figsize=(26,17))\n",
    "for i, col in enumerate(num_cols):\n",
    "    sns.histplot(df[col], ax=axes.flat[i]).set(title='Histplot for ' + col)"
   ]
  },
  {
   "cell_type": "code",
   "execution_count": null,
   "metadata": {
    "execution": {
     "iopub.status.busy": "2021-11-03T18:44:01.658395Z",
     "iopub.status.idle": "2021-11-03T18:44:01.659203Z",
     "shell.execute_reply": "2021-11-03T18:44:01.658875Z",
     "shell.execute_reply.started": "2021-11-03T18:44:01.658848Z"
    }
   },
   "outputs": [],
   "source": [
    "# Распределение дефолтных клиентов относительно числовых признаков\n",
    "fig, axes = plt.subplots(2, 3, figsize=(25,18))\n",
    "for i, col in enumerate(num_cols[:-1]):\n",
    "    sns.boxplot(y = data[col], x = 'default', data=data, ax=axes.flat[i],\n",
    "                      palette='rainbow').set(title='Boxplot for ' + col)"
   ]
  },
  {
   "cell_type": "markdown",
   "metadata": {},
   "source": [
    "* Видим, что распределения всех чиловых признаков, кроме **score_bki**, имеют тяжелый правый хвост.\n",
    "* Дефолтные клиенты в среднем младше, имеют большее количество отклоненных заявок и больше запросов в БКИ. А также в среднем имеют более низкий доход.\n",
    "* В **region_rating** хоть данные и предоставлены в числовом виде, имеется некоторая тенденция к категориальности, где значения распределены от 20 до 80 с шагом в 10."
   ]
  },
  {
   "cell_type": "markdown",
   "metadata": {},
   "source": [
    "Оценим корреляцию числовых признаков:"
   ]
  },
  {
   "cell_type": "code",
   "execution_count": null,
   "metadata": {
    "execution": {
     "iopub.status.busy": "2021-11-03T18:44:01.661613Z",
     "iopub.status.idle": "2021-11-03T18:44:01.6627Z",
     "shell.execute_reply": "2021-11-03T18:44:01.662361Z",
     "shell.execute_reply.started": "2021-11-03T18:44:01.662318Z"
    }
   },
   "outputs": [],
   "source": [
    "sns.set(font_scale=1)\n",
    "plt.subplots(figsize=(12, 12))\n",
    "sns.heatmap(df[num_cols].corr().abs(), vmin=0, vmax=1, square=True,\n",
    "                             annot=True, fmt=\".1f\", linewidths=0.1,\n",
    "    cmap=\"RdBu\").set_title('График корреляций числовых переменных')"
   ]
  },
  {
   "cell_type": "code",
   "execution_count": null,
   "metadata": {
    "execution": {
     "iopub.status.busy": "2021-11-03T18:44:01.664836Z",
     "iopub.status.idle": "2021-11-03T18:44:01.666835Z",
     "shell.execute_reply": "2021-11-03T18:44:01.666482Z",
     "shell.execute_reply.started": "2021-11-03T18:44:01.66644Z"
    }
   },
   "outputs": [],
   "source": [
    "imp_num = pd.Series(f_classif(df[num_cols], df['default'])[0], index=num_cols)\n",
    "imp_num.sort_values(inplace=True)\n",
    "imp_num.plot(kind='barh')"
   ]
  },
  {
   "cell_type": "markdown",
   "metadata": {},
   "source": [
    "Так как **категориальные** признаки требуют обработки, рассмотрим их подробнее позже."
   ]
  },
  {
   "cell_type": "markdown",
   "metadata": {},
   "source": [
    "# Построение наивной модели"
   ]
  },
  {
   "cell_type": "markdown",
   "metadata": {},
   "source": [
    "Займемся преобразованием **бинарных признаков**:"
   ]
  },
  {
   "cell_type": "code",
   "execution_count": null,
   "metadata": {
    "execution": {
     "iopub.status.busy": "2021-11-03T18:44:01.670223Z",
     "iopub.status.idle": "2021-11-03T18:44:01.672114Z",
     "shell.execute_reply": "2021-11-03T18:44:01.671839Z",
     "shell.execute_reply.started": "2021-11-03T18:44:01.671808Z"
    }
   },
   "outputs": [],
   "source": [
    "label_encoder = LabelEncoder()\n",
    "for column in bin_cols:\n",
    "    df[column] = label_encoder.fit_transform(df[column])"
   ]
  },
  {
   "cell_type": "markdown",
   "metadata": {},
   "source": [
    "Удалим **education** из-за наличия пропусков. Также удалим **app_date** и **client_id**:"
   ]
  },
  {
   "cell_type": "code",
   "execution_count": null,
   "metadata": {
    "execution": {
     "iopub.status.busy": "2021-11-03T18:44:01.684932Z",
     "iopub.status.idle": "2021-11-03T18:44:01.686275Z",
     "shell.execute_reply": "2021-11-03T18:44:01.685849Z",
     "shell.execute_reply.started": "2021-11-03T18:44:01.6858Z"
    }
   },
   "outputs": [],
   "source": [
    "df_naiv = df.drop(['client_id', 'education', 'app_date'], axis=1)"
   ]
  },
  {
   "cell_type": "code",
   "execution_count": null,
   "metadata": {
    "execution": {
     "iopub.status.busy": "2021-11-03T18:44:01.689192Z",
     "iopub.status.idle": "2021-11-03T18:44:01.690351Z",
     "shell.execute_reply": "2021-11-03T18:44:01.68997Z",
     "shell.execute_reply.started": "2021-11-03T18:44:01.689926Z"
    }
   },
   "outputs": [],
   "source": [
    "train_processed = df_naiv.query('sample == 1').drop(['sample'], axis=1)\n",
    "test_processed = df_naiv.query('sample == 0').drop(['sample'], axis=1)"
   ]
  },
  {
   "cell_type": "code",
   "execution_count": null,
   "metadata": {
    "execution": {
     "iopub.status.busy": "2021-11-03T18:44:01.692689Z",
     "iopub.status.idle": "2021-11-03T18:44:01.693823Z",
     "shell.execute_reply": "2021-11-03T18:44:01.693463Z",
     "shell.execute_reply.started": "2021-11-03T18:44:01.693419Z"
    }
   },
   "outputs": [],
   "source": [
    "# Удалим для X целевую переменную\n",
    "X = train_processed.drop(columns=['default'])\n",
    "y = train_processed['default']"
   ]
  },
  {
   "cell_type": "code",
   "execution_count": null,
   "metadata": {
    "execution": {
     "iopub.status.busy": "2021-11-03T18:44:01.706395Z",
     "iopub.status.idle": "2021-11-03T18:44:01.707537Z",
     "shell.execute_reply": "2021-11-03T18:44:01.70721Z",
     "shell.execute_reply.started": "2021-11-03T18:44:01.707167Z"
    }
   },
   "outputs": [],
   "source": [
    "lr = LogisticRegression(random_state=RANDOM_SEED, max_iter=1000)\n",
    "visualise_metrics(lr, X, y)"
   ]
  },
  {
   "cell_type": "markdown",
   "metadata": {},
   "source": [
    "Наивная модель выдает кредит абсолютно всем и предсказывает отсутствие дефолтных клиентов. Идеально, но несопоставимо с реальностью."
   ]
  },
  {
   "cell_type": "markdown",
   "metadata": {},
   "source": [
    "# EDA: визуализация, выбросы, пропуски, корреляционный анализ, генерация признаков"
   ]
  },
  {
   "cell_type": "markdown",
   "metadata": {},
   "source": [
    "# Выбросы"
   ]
  },
  {
   "cell_type": "code",
   "execution_count": null,
   "metadata": {
    "execution": {
     "iopub.status.busy": "2021-11-03T18:44:01.709513Z",
     "iopub.status.idle": "2021-11-03T18:44:01.710712Z",
     "shell.execute_reply": "2021-11-03T18:44:01.710337Z",
     "shell.execute_reply.started": "2021-11-03T18:44:01.71028Z"
    }
   },
   "outputs": [],
   "source": [
    "# Смотрим на выбросы числовых признаков\n",
    "for col in num_cols:\n",
    "    print(col)\n",
    "    show_outliers(df, col)\n",
    "    print(\"\\n\")"
   ]
  },
  {
   "cell_type": "markdown",
   "metadata": {},
   "source": [
    "В переменной **decline_app_cnt** 83% значений нулевые. Убирать все значения выше 0 - абсолютно лишено смысла. \n",
    "\n",
    "Посмотрим на процентное распределение уникальных значений:"
   ]
  },
  {
   "cell_type": "code",
   "execution_count": null,
   "metadata": {
    "execution": {
     "iopub.status.busy": "2021-11-03T18:44:01.712957Z",
     "iopub.status.idle": "2021-11-03T18:44:01.714036Z",
     "shell.execute_reply": "2021-11-03T18:44:01.713672Z",
     "shell.execute_reply.started": "2021-11-03T18:44:01.713629Z"
    }
   },
   "outputs": [],
   "source": [
    "df['decline_app_cnt'].value_counts(normalize=True)"
   ]
  },
  {
   "cell_type": "markdown",
   "metadata": {},
   "source": [
    "Значения выше 4 встречаются реже, чем у 0.5% данных. Заменяем все значения выше 4 на 4 и использовать как категориальный признак при построении модели."
   ]
  },
  {
   "cell_type": "code",
   "execution_count": null,
   "metadata": {
    "execution": {
     "iopub.status.busy": "2021-11-03T18:44:01.715972Z",
     "iopub.status.idle": "2021-11-03T18:44:01.716844Z",
     "shell.execute_reply": "2021-11-03T18:44:01.716542Z",
     "shell.execute_reply.started": "2021-11-03T18:44:01.71651Z"
    }
   },
   "outputs": [],
   "source": [
    "df.loc[df['decline_app_cnt'] > 4, 'decline_app_cnt'] = 4"
   ]
  },
  {
   "cell_type": "code",
   "execution_count": null,
   "metadata": {
    "execution": {
     "iopub.status.busy": "2021-11-03T18:44:01.72254Z",
     "iopub.status.idle": "2021-11-03T18:44:01.723147Z",
     "shell.execute_reply": "2021-11-03T18:44:01.722941Z",
     "shell.execute_reply.started": "2021-11-03T18:44:01.722919Z"
    }
   },
   "outputs": [],
   "source": [
    "# Посмотрим на результат\n",
    "df['decline_app_cnt'].value_counts(normalize=True)"
   ]
  },
  {
   "cell_type": "markdown",
   "metadata": {},
   "source": [
    "Похожая ситуация с переменной **bki_request_cnt**. Проделаем то же самое."
   ]
  },
  {
   "cell_type": "code",
   "execution_count": null,
   "metadata": {
    "execution": {
     "iopub.status.busy": "2021-11-03T18:44:01.724204Z",
     "iopub.status.idle": "2021-11-03T18:44:01.725147Z",
     "shell.execute_reply": "2021-11-03T18:44:01.724628Z",
     "shell.execute_reply.started": "2021-11-03T18:44:01.724574Z"
    }
   },
   "outputs": [],
   "source": [
    "df['bki_request_cnt'].value_counts(normalize=True)"
   ]
  },
  {
   "cell_type": "code",
   "execution_count": null,
   "metadata": {
    "execution": {
     "iopub.status.busy": "2021-11-03T18:44:01.728033Z",
     "iopub.status.idle": "2021-11-03T18:44:01.729016Z",
     "shell.execute_reply": "2021-11-03T18:44:01.728743Z",
     "shell.execute_reply.started": "2021-11-03T18:44:01.728711Z"
    }
   },
   "outputs": [],
   "source": [
    "# Определим порог значением 5 \n",
    "df.loc[df['bki_request_cnt'] > 5, 'bki_request_cnt'] = 5"
   ]
  },
  {
   "cell_type": "code",
   "execution_count": null,
   "metadata": {
    "execution": {
     "iopub.status.busy": "2021-11-03T18:44:01.731124Z",
     "iopub.status.idle": "2021-11-03T18:44:01.741709Z",
     "shell.execute_reply": "2021-11-03T18:44:01.741211Z",
     "shell.execute_reply.started": "2021-11-03T18:44:01.741148Z"
    }
   },
   "outputs": [],
   "source": [
    "df['income'].value_counts(normalize=True)"
   ]
  },
  {
   "cell_type": "markdown",
   "metadata": {},
   "source": [
    "В случае **income**, порог в 90000 так же не особенно реалистичен. Исходя из графиков распределения, условная граница, после которой почти нет значений - 0.4. Выберем верхнюю границу в 500к и заменим этим значением все, что выше."
   ]
  },
  {
   "cell_type": "code",
   "execution_count": null,
   "metadata": {
    "execution": {
     "iopub.status.busy": "2021-11-03T18:44:01.7444Z",
     "iopub.status.idle": "2021-11-03T18:44:01.7456Z",
     "shell.execute_reply": "2021-11-03T18:44:01.745216Z",
     "shell.execute_reply.started": "2021-11-03T18:44:01.745168Z"
    }
   },
   "outputs": [],
   "source": [
    "# Определим порог значением 500000\n",
    "df.loc[df['income'] > 500000, 'income'] = 500000"
   ]
  },
  {
   "cell_type": "markdown",
   "metadata": {},
   "source": [
    "Установим нижнюю границу **score_bki** согласно IQR range. Для верхней границы используем значение 0."
   ]
  },
  {
   "cell_type": "code",
   "execution_count": null,
   "metadata": {
    "execution": {
     "iopub.status.busy": "2021-11-03T18:44:01.748219Z",
     "iopub.status.idle": "2021-11-03T18:44:01.74934Z",
     "shell.execute_reply": "2021-11-03T18:44:01.748975Z",
     "shell.execute_reply.started": "2021-11-03T18:44:01.74893Z"
    }
   },
   "outputs": [],
   "source": [
    "df.loc[df['score_bki'] < -3.299, 'score_bki'] = -3.299\n",
    "df.loc[df['score_bki'] > 0, 'score_bki'] = 0"
   ]
  },
  {
   "cell_type": "markdown",
   "metadata": {},
   "source": [
    "* Признак **education**"
   ]
  },
  {
   "cell_type": "code",
   "execution_count": null,
   "metadata": {
    "execution": {
     "iopub.status.busy": "2021-11-03T18:44:01.761112Z",
     "iopub.status.idle": "2021-11-03T18:44:01.762449Z",
     "shell.execute_reply": "2021-11-03T18:44:01.761978Z",
     "shell.execute_reply.started": "2021-11-03T18:44:01.761917Z"
    }
   },
   "outputs": [],
   "source": [
    "df.education.value_counts().plot.barh()"
   ]
  },
  {
   "cell_type": "markdown",
   "metadata": {},
   "source": [
    "Заполним пропуски самым распространенным значением - \"**SCH**\":"
   ]
  },
  {
   "cell_type": "code",
   "execution_count": null,
   "metadata": {
    "execution": {
     "iopub.status.busy": "2021-11-03T18:44:01.771406Z",
     "iopub.status.idle": "2021-11-03T18:44:01.772828Z",
     "shell.execute_reply": "2021-11-03T18:44:01.772285Z",
     "shell.execute_reply.started": "2021-11-03T18:44:01.772215Z"
    }
   },
   "outputs": [],
   "source": [
    "df.education = df.education.fillna(df.education.mode()[0])\n",
    "df.isnull().sum()"
   ]
  },
  {
   "cell_type": "markdown",
   "metadata": {},
   "source": [
    "Закодируем  признак **education**:"
   ]
  },
  {
   "cell_type": "code",
   "execution_count": null,
   "metadata": {
    "execution": {
     "iopub.status.busy": "2021-11-03T18:44:01.776028Z",
     "iopub.status.idle": "2021-11-03T18:44:01.777545Z",
     "shell.execute_reply": "2021-11-03T18:44:01.777031Z",
     "shell.execute_reply.started": "2021-11-03T18:44:01.776975Z"
    }
   },
   "outputs": [],
   "source": [
    "label_encoder = LabelEncoder()\n",
    "df['education'] = label_encoder.fit_transform(df['education'])\n",
    "df.head()"
   ]
  },
  {
   "cell_type": "markdown",
   "metadata": {},
   "source": [
    "* Распределения всех чиловых признаков, кроме **score_bki**, имеют тяжелый правый хвост. Прологарифмируем их позже, чтобы уйти от этой проблемы. **score_bki** исключим из логарифмирования, так как он может принимать отрицательные значения."
   ]
  },
  {
   "cell_type": "code",
   "execution_count": null,
   "metadata": {
    "execution": {
     "iopub.status.busy": "2021-11-03T18:44:01.787174Z",
     "iopub.status.idle": "2021-11-03T18:44:01.78846Z",
     "shell.execute_reply": "2021-11-03T18:44:01.788027Z",
     "shell.execute_reply.started": "2021-11-03T18:44:01.787979Z"
    }
   },
   "outputs": [],
   "source": [
    "for i in num_cols:\n",
    "    if i != 'score_bki':\n",
    "        df[i] = np.log(1 + df[i])"
   ]
  },
  {
   "cell_type": "code",
   "execution_count": null,
   "metadata": {
    "execution": {
     "iopub.status.busy": "2021-11-03T18:44:01.790793Z",
     "iopub.status.idle": "2021-11-03T18:44:01.792971Z",
     "shell.execute_reply": "2021-11-03T18:44:01.792588Z",
     "shell.execute_reply.started": "2021-11-03T18:44:01.79254Z"
    }
   },
   "outputs": [],
   "source": [
    "fig, axes = plt.subplots(2, 4, figsize=(26,17))\n",
    "for i, col in enumerate(num_cols):\n",
    "    sns.histplot(df[col], ax=axes.flat[i]).set(title='Histplot for ' + col)"
   ]
  },
  {
   "cell_type": "markdown",
   "metadata": {},
   "source": [
    "Сработало только с признаком **income**."
   ]
  },
  {
   "cell_type": "code",
   "execution_count": null,
   "metadata": {
    "execution": {
     "iopub.status.busy": "2021-11-03T18:44:01.79613Z",
     "iopub.status.idle": "2021-11-03T18:44:01.811873Z",
     "shell.execute_reply": "2021-11-03T18:44:01.811292Z",
     "shell.execute_reply.started": "2021-11-03T18:44:01.811214Z"
    }
   },
   "outputs": [],
   "source": [
    "# Распределение дефолтных клиентов относительно числовых признаков\n",
    "fig, axes = plt.subplots(2, 3, figsize=(25,18))\n",
    "for i, col in enumerate(num_cols[:-1]):\n",
    "    sns.boxplot(y = data[col], x = 'default', data=data, ax=axes.flat[i],\n",
    "                      palette='rainbow').set(title='Boxplot for ' + col)"
   ]
  },
  {
   "cell_type": "markdown",
   "metadata": {},
   "source": [
    "На боксплотах видно большое количество выбросов в **score_bki**, **income**, **bki_request_cnt** и **decline_app_cnt**."
   ]
  },
  {
   "cell_type": "markdown",
   "metadata": {},
   "source": [
    "* Признак **app_date**"
   ]
  },
  {
   "cell_type": "code",
   "execution_count": null,
   "metadata": {
    "execution": {
     "iopub.status.busy": "2021-11-03T18:44:01.814998Z",
     "iopub.status.idle": "2021-11-03T18:44:01.816277Z",
     "shell.execute_reply": "2021-11-03T18:44:01.815854Z",
     "shell.execute_reply.started": "2021-11-03T18:44:01.815807Z"
    }
   },
   "outputs": [],
   "source": [
    "# Преобразуем в формат даты\n",
    "df['app_date'] = pd.to_datetime(df['app_date'])\n",
    "\n",
    "# Вычислим количество дней с самой давней записи в датасете \n",
    "df['app_days'] = df['app_date'].apply(lambda x: x - df['app_date'].min())\n",
    "df['app_days'] = df['app_days'].dt.days\n",
    "df.drop('app_date', axis=1, inplace=True)\n",
    "\n",
    "# Обновим список с числовыми признаками\n",
    "cat_cols = list(set(cat_cols) - set(['app_date']))\n",
    "num_cols = num_cols + ['app_days']"
   ]
  },
  {
   "cell_type": "markdown",
   "metadata": {},
   "source": [
    "# Оценка важности"
   ]
  },
  {
   "cell_type": "markdown",
   "metadata": {},
   "source": [
    "Оценим корреляцию и значимость **числовых признаков**:"
   ]
  },
  {
   "cell_type": "code",
   "execution_count": null,
   "metadata": {
    "execution": {
     "iopub.status.busy": "2021-11-03T18:44:01.825629Z",
     "iopub.status.idle": "2021-11-03T18:44:01.82694Z",
     "shell.execute_reply": "2021-11-03T18:44:01.826532Z",
     "shell.execute_reply.started": "2021-11-03T18:44:01.826483Z"
    }
   },
   "outputs": [],
   "source": [
    "sns.set(font_scale=1)\n",
    "plt.subplots(figsize=(12, 12))\n",
    "sns.heatmap(df[num_cols].corr().abs(), vmin=0, vmax=1, square=True,\n",
    "                             annot=True, fmt=\".1f\", linewidths=0.1,\n",
    "    cmap=\"RdBu\").set_title('График корреляций числовых переменных')"
   ]
  },
  {
   "cell_type": "code",
   "execution_count": null,
   "metadata": {
    "execution": {
     "iopub.status.busy": "2021-11-03T18:44:01.836715Z",
     "iopub.status.idle": "2021-11-03T18:44:01.838038Z",
     "shell.execute_reply": "2021-11-03T18:44:01.837641Z",
     "shell.execute_reply.started": "2021-11-03T18:44:01.837591Z"
    }
   },
   "outputs": [],
   "source": [
    "imp_num = pd.Series(f_classif(df[num_cols], df['default'])[0], index=num_cols)\n",
    "imp_num.sort_values(inplace=True)\n",
    "imp_num.plot(kind='barh')"
   ]
  },
  {
   "cell_type": "markdown",
   "metadata": {},
   "source": [
    "Как мы видим, взаимосвязь пар числовых признаков по Пирсону слабая, что прекрасно для нашей модели! \n",
    "**score_bki** - наиболее значимый числовой признак, **age** - наименее значимый."
   ]
  },
  {
   "cell_type": "markdown",
   "metadata": {},
   "source": [
    "Оценим корреляцию и значимость **категориальных и бинарных признаков**:"
   ]
  },
  {
   "cell_type": "code",
   "execution_count": null,
   "metadata": {
    "execution": {
     "iopub.status.busy": "2021-11-03T18:44:01.846767Z",
     "iopub.status.idle": "2021-11-03T18:44:01.847754Z",
     "shell.execute_reply": "2021-11-03T18:44:01.847454Z",
     "shell.execute_reply.started": "2021-11-03T18:44:01.847419Z"
    }
   },
   "outputs": [],
   "source": [
    "sns.set(font_scale=1)\n",
    "plt.subplots(figsize=(12, 12))\n",
    "sns.heatmap(df[cat_cols + bin_cols].corr().abs(), vmin=0, vmax=1, square=True,\n",
    "                             annot=True, fmt=\".1f\", linewidths=0.1,\n",
    "     cmap=\"RdBu\").set_title('Корреляция категориальных и бинарных переменных')"
   ]
  },
  {
   "cell_type": "markdown",
   "metadata": {},
   "source": [
    "Наблюдается высокая корреляция между признаками **home_addres/work_address**, **car/car_type**. Посмотрим на значимость признаков и решим, какие отбросить, а какие оставить."
   ]
  },
  {
   "cell_type": "code",
   "execution_count": null,
   "metadata": {
    "execution": {
     "iopub.status.busy": "2021-11-03T18:44:01.849846Z",
     "iopub.status.idle": "2021-11-03T18:44:01.856378Z",
     "shell.execute_reply": "2021-11-03T18:44:01.856013Z",
     "shell.execute_reply.started": "2021-11-03T18:44:01.855969Z"
    }
   },
   "outputs": [],
   "source": [
    "imp_cat = pd.Series(mutual_info_classif(df[bin_cols + cat_cols], df['default'],\n",
    "                           discrete_features=True), index=bin_cols + cat_cols)\n",
    "imp_cat.sort_values(inplace=True)\n",
    "imp_cat.plot(kind='barh')"
   ]
  },
  {
   "cell_type": "markdown",
   "metadata": {},
   "source": [
    "Согласно значимости оставляем - **home_address** и **car_type**, удаляем - **work_address** и **car**. Также удаляем столбец **client_id**."
   ]
  },
  {
   "cell_type": "code",
   "execution_count": null,
   "metadata": {
    "execution": {
     "iopub.status.busy": "2021-11-03T18:44:01.858283Z",
     "iopub.status.idle": "2021-11-03T18:44:01.859158Z",
     "shell.execute_reply": "2021-11-03T18:44:01.858855Z",
     "shell.execute_reply.started": "2021-11-03T18:44:01.858822Z"
    }
   },
   "outputs": [],
   "source": [
    "df = df.drop(df[['work_address', 'car_type', 'client_id']], axis=1)\n",
    "cat_cols = list(set(cat_cols) - set(['work_address']))\n",
    "bin_cols = list(set(bin_cols) - set(['car_type']))"
   ]
  },
  {
   "cell_type": "markdown",
   "metadata": {},
   "source": [
    "Перед обучением регрессии стандартизируем **числовые признаки**, а для **категориальных переменных** используем dummy-кодирование:"
   ]
  },
  {
   "cell_type": "code",
   "execution_count": null,
   "metadata": {
    "execution": {
     "iopub.status.busy": "2021-11-03T18:44:01.867703Z",
     "iopub.status.idle": "2021-11-03T18:44:01.868666Z",
     "shell.execute_reply": "2021-11-03T18:44:01.868373Z",
     "shell.execute_reply.started": "2021-11-03T18:44:01.868336Z"
    }
   },
   "outputs": [],
   "source": [
    "X_num = StandardScaler().fit_transform(df[num_cols].values)\n",
    "df[num_cols] = X_num"
   ]
  },
  {
   "cell_type": "code",
   "execution_count": null,
   "metadata": {
    "execution": {
     "iopub.status.busy": "2021-11-03T18:44:01.8704Z",
     "iopub.status.idle": "2021-11-03T18:44:01.871709Z",
     "shell.execute_reply": "2021-11-03T18:44:01.871222Z",
     "shell.execute_reply.started": "2021-11-03T18:44:01.87117Z"
    }
   },
   "outputs": [],
   "source": [
    "df = pd.get_dummies(df, columns=cat_cols)\n",
    "df.head()"
   ]
  },
  {
   "cell_type": "markdown",
   "metadata": {},
   "source": [
    "# Построение модели логистической регрессии"
   ]
  },
  {
   "cell_type": "code",
   "execution_count": null,
   "metadata": {
    "execution": {
     "iopub.status.busy": "2021-11-03T18:44:01.874597Z",
     "iopub.status.idle": "2021-11-03T18:44:01.876582Z",
     "shell.execute_reply": "2021-11-03T18:44:01.876101Z",
     "shell.execute_reply.started": "2021-11-03T18:44:01.876036Z"
    }
   },
   "outputs": [],
   "source": [
    "# Обновляем списки переменных\n",
    "num_cols = ['age', 'score_bki', 'region_rating', 'first_time', 'app_days']\n",
    "cat_cols = ['sna', 'home_address', 'education',\n",
    "            'decline_app_cnt', 'bki_request_cnt', 'income']\n",
    "bin_cols = ['foreign_passport', 'sex', 'good_work', 'car']"
   ]
  },
  {
   "cell_type": "code",
   "execution_count": null,
   "metadata": {
    "execution": {
     "iopub.status.busy": "2021-11-03T18:44:01.887684Z",
     "iopub.status.idle": "2021-11-03T18:44:01.899808Z",
     "shell.execute_reply": "2021-11-03T18:44:01.899253Z",
     "shell.execute_reply.started": "2021-11-03T18:44:01.899183Z"
    }
   },
   "outputs": [],
   "source": [
    "train_processed = df.query('sample == 1').drop(['sample'], axis=1)\n",
    "test_processed = df.query('sample == 0').drop(['sample'], axis=1)\n",
    "\n",
    "# Удалим для X целевую переменную \n",
    "X = train_processed.drop(columns=['default'])\n",
    "y = train_processed['default']\n",
    "\n",
    "lr = LogisticRegression(random_state=RANDOM_SEED, max_iter=1000)\n",
    "visualise_metrics(lr, X, y)"
   ]
  },
  {
   "cell_type": "markdown",
   "metadata": {},
   "source": [
    "Предсказания модели улучшились, но всё еще неприменимы в реальной жизни. Улучшаем!"
   ]
  },
  {
   "cell_type": "markdown",
   "metadata": {},
   "source": [
    "# Эксперименты"
   ]
  },
  {
   "cell_type": "code",
   "execution_count": null,
   "metadata": {
    "execution": {
     "iopub.status.busy": "2021-11-03T18:44:01.90657Z",
     "iopub.status.idle": "2021-11-03T18:44:01.91366Z",
     "shell.execute_reply": "2021-11-03T18:44:01.913206Z",
     "shell.execute_reply.started": "2021-11-03T18:44:01.913152Z"
    }
   },
   "outputs": [],
   "source": [
    "lr_balanced = LogisticRegression(\n",
    "    class_weight='balanced', max_iter=1000, random_state=RANDOM_SEED)\n",
    "visualise_metrics(lr_balanced, X, y)"
   ]
  },
  {
   "cell_type": "markdown",
   "metadata": {},
   "source": [
    "В сбалансированной модели резко уменьшается количество ошибок первого рода, но появляется значительное количество ошибок второго рода."
   ]
  },
  {
   "cell_type": "markdown",
   "metadata": {},
   "source": [
    "# Подбор гиперпараметров"
   ]
  },
  {
   "cell_type": "code",
   "execution_count": null,
   "metadata": {
    "execution": {
     "iopub.status.busy": "2021-11-03T18:44:01.915598Z",
     "iopub.status.idle": "2021-11-03T18:44:01.91773Z",
     "shell.execute_reply": "2021-11-03T18:44:01.917384Z",
     "shell.execute_reply.started": "2021-11-03T18:44:01.917337Z"
    }
   },
   "outputs": [],
   "source": [
    "# Создадим набор гиперпараметров\n",
    "hyperparameters = {'C': np.logspace(-4, 4, 20)}\n",
    "\n",
    "X = train_processed.drop(columns=['default'])\n",
    "y = train_processed['default']\n",
    "\n",
    "X_train, X_valid, y_train, y_valid = train_test_split(\n",
    "    X, y, random_state=RANDOM_SEED, test_size=0.2)\n",
    "\n",
    "model = LogisticRegression(random_state=RANDOM_SEED,\n",
    "                           class_weight='balanced', max_iter=1000)\n",
    "\n",
    "# Создадим сетку поиска с использованием 5-кратной перекрёстной проверки\n",
    "clf = GridSearchCV(model, hyperparameters, cv=5, verbose=0, scoring='roc_auc')\n",
    "\n",
    "best_model = clf.fit(X_train, y_train)\n",
    "\n",
    "# Вывод лучшего параметра С\n",
    "print('Лучшее C:', best_model.best_estimator_.get_params()['C'])"
   ]
  },
  {
   "cell_type": "code",
   "execution_count": null,
   "metadata": {
    "execution": {
     "iopub.status.busy": "2021-11-03T18:44:01.919494Z",
     "iopub.status.idle": "2021-11-03T18:44:01.9233Z",
     "shell.execute_reply": "2021-11-03T18:44:01.922977Z",
     "shell.execute_reply.started": "2021-11-03T18:44:01.92294Z"
    }
   },
   "outputs": [],
   "source": [
    "lr_best = LogisticRegression(random_state=RANDOM_SEED,\n",
    "    class_weight='balanced', max_iter=1000, C=0.012742749857031334)\n",
    "visualise_metrics(lr_best, X, y)"
   ]
  },
  {
   "cell_type": "markdown",
   "metadata": {},
   "source": [
    "Попробуем применить **undersampling**:\n",
    "\n",
    "Оставим случайным образом в тренировочных данных столько строк с нулевым дефолтом, сколько всего есть данных меньшего класса"
   ]
  },
  {
   "cell_type": "code",
   "execution_count": null,
   "metadata": {
    "execution": {
     "iopub.status.busy": "2021-11-03T18:44:01.92493Z",
     "iopub.status.idle": "2021-11-03T18:44:01.925606Z",
     "shell.execute_reply": "2021-11-03T18:44:01.925339Z",
     "shell.execute_reply.started": "2021-11-03T18:44:01.925307Z"
    }
   },
   "outputs": [],
   "source": [
    "train_unders = pd.concat(\n",
    " [train_processed[train_processed['default'] == 0].sample(len(\n",
    " train_processed[train_processed['default'] == 1]), random_state=RANDOM_SEED),\n",
    "                            train_processed[train_processed['default'] == 1]])\n",
    "\n",
    "X = train_unders.drop(columns=['default'])\n",
    "y = train_unders['default']\n",
    "\n",
    "lr_balanced = LogisticRegression(\n",
    "    class_weight='balanced', max_iter=1000, random_state=RANDOM_SEED)\n",
    "visualise_metrics(lr_balanced, X, y)"
   ]
  },
  {
   "cell_type": "markdown",
   "metadata": {},
   "source": [
    "Применение **undersampling** позволило значительно улучшить предсказания модели. Теперь верные предсказания по дефолтным и недефолтным клиентам превосходят ошибочные. Но показатель ROC AUC стал меньше."
   ]
  },
  {
   "cell_type": "markdown",
   "metadata": {},
   "source": [
    "# Выводы"
   ]
  },
  {
   "cell_type": "markdown",
   "metadata": {},
   "source": [
    "* После обработки данных (**EDA**) построили базовую модель логистической регрессии, которая показала **ROC AUC** > 0.74, а также **accuracy** 0.874, **precision** 0.363, **recall** 0.020 и **f1_score** 0.0384\n",
    "* При подборе гиперпараметра с использованием **GridSearchCV** и **логарифмсеткой** (-4,4) получили, что при значении **C** = 0.01274 модель показывает практически тот же результат. **ROC AUC** не изменился, **f1** примерно такой же 0.338.\n",
    "* Также, для сравнения, построили модель логистической регрессии с одинаковым количеством классов целевой переменной. **f1** стал еще лучше 0,67 за счет изменения **recall_score**, но **ROC AUC** стал хуже 0,733. Поэтому в итоге взяли базовую модель с гиперпараметром  **C** = 0.01274."
   ]
  },
  {
   "cell_type": "markdown",
   "metadata": {},
   "source": [
    "# Финальная модель и submission"
   ]
  },
  {
   "cell_type": "code",
   "execution_count": null,
   "metadata": {
    "execution": {
     "iopub.status.busy": "2021-11-03T18:44:01.927593Z",
     "iopub.status.idle": "2021-11-03T18:44:01.928223Z",
     "shell.execute_reply": "2021-11-03T18:44:01.927964Z",
     "shell.execute_reply.started": "2021-11-03T18:44:01.927932Z"
    }
   },
   "outputs": [],
   "source": [
    "X_test = test_processed.drop(columns=['default'])\n",
    "y_pred = lr_best.predict_proba(X_test)\n",
    "results_df = pd.DataFrame(\n",
    "    data={'client_id': test_data['client_id'], 'default': y_pred[:, 1]})\n",
    "results_df.to_csv('submission.csv', index=False)\n",
    "results_df"
   ]
  }
 ],
 "metadata": {
  "kernelspec": {
   "display_name": "Python 3",
   "language": "python",
   "name": "python3"
  },
  "language_info": {
   "codemirror_mode": {
    "name": "ipython",
    "version": 3
   },
   "file_extension": ".py",
   "mimetype": "text/x-python",
   "name": "python",
   "nbconvert_exporter": "python",
   "pygments_lexer": "ipython3",
   "version": "3.8.5"
  }
 },
 "nbformat": 4,
 "nbformat_minor": 4
}
